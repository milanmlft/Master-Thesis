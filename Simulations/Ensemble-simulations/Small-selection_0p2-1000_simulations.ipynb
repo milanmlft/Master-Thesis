{
 "cells": [
  {
   "cell_type": "markdown",
   "metadata": {},
   "source": [
    "# Simulating multiple small populations"
   ]
  },
  {
   "cell_type": "code",
   "execution_count": 1,
   "metadata": {},
   "outputs": [],
   "source": [
    "import os\n",
    "import sys\n",
    "module_path = os.path.abspath(os.path.join('../..'))\n",
    "if module_path not in sys.path:\n",
    "    sys.path.append(module_path)\n",
    "\n",
    "import pickle\n",
    "import gzip\n",
    "import numpy as np\n",
    "import pandas as pd\n",
    "\n",
    "from ThesisScripts.MyModel import *\n",
    "from ThesisScripts.Analyses import *"
   ]
  },
  {
   "cell_type": "markdown",
   "metadata": {},
   "source": [
    "## Simulations (1000 simulations of $10^4$ populations)"
   ]
  },
  {
   "cell_type": "code",
   "execution_count": 2,
   "metadata": {},
   "outputs": [],
   "source": [
    "# parameters for populations\n",
    "l = 10**4      # size limit\n",
    "q = 10**(-3)   # mutation rate\n",
    "qfac = 1       # mutation-rate increasing factor (here: no Mutator phenotype)\n",
    "alpha = 0.3    # death rate"
   ]
  },
  {
   "cell_type": "markdown",
   "metadata": {},
   "source": [
    "### Selection = 0.2 populations"
   ]
  },
  {
   "cell_type": "code",
   "execution_count": 2,
   "metadata": {},
   "outputs": [
    {
     "name": "stdout",
     "output_type": "stream",
     "text": [
      "\u001b[1m\u001b[34mlarge-neutral-1000_MultiSim\u001b[m\u001b[m/         \u001b[1m\u001b[34mlarge-selection_3-1000_MultiSim\u001b[m\u001b[m/\r\n",
      "\u001b[1m\u001b[34mlarge-selection_0p004-1000_MultiSim\u001b[m\u001b[m/ \u001b[1m\u001b[34msmall-neutral-1000_MultiSim\u001b[m\u001b[m/\r\n",
      "\u001b[1m\u001b[34mlarge-selection_0p01-1000_MultiSim\u001b[m\u001b[m/  \u001b[1m\u001b[34msmall-selection_0p004-1000_MultiSim\u001b[m\u001b[m/\r\n",
      "\u001b[1m\u001b[34mlarge-selection_0p05-1000_MultiSim\u001b[m\u001b[m/  \u001b[1m\u001b[34msmall-selection_0p01-1000_MultiSim\u001b[m\u001b[m/\r\n",
      "\u001b[1m\u001b[34mlarge-selection_0p1-1000_MultiSim\u001b[m\u001b[m/   \u001b[1m\u001b[34msmall-selection_0p05-1000_MultiSim\u001b[m\u001b[m/\r\n",
      "\u001b[1m\u001b[34mlarge-selection_0p15-1000_MultiSim\u001b[m\u001b[m/  \u001b[1m\u001b[34msmall-selection_0p1-1000_MultiSim\u001b[m\u001b[m/\r\n",
      "\u001b[1m\u001b[34mlarge-selection_0p2-1000_MultiSim\u001b[m\u001b[m/   \u001b[1m\u001b[34msmall-selection_0p15-1000_MultiSim\u001b[m\u001b[m/\r\n",
      "\u001b[1m\u001b[34mlarge-selection_0p3-1000_MultiSim\u001b[m\u001b[m/   \u001b[1m\u001b[34msmall-selection_0p2-1000_MultiSim\u001b[m\u001b[m/\r\n",
      "\u001b[1m\u001b[34mlarge-selection_1p5-1000_MultiSim\u001b[m\u001b[m/\r\n"
     ]
    }
   ],
   "source": [
    "%ls ./saved_simulations/"
   ]
  },
  {
   "cell_type": "code",
   "execution_count": 4,
   "metadata": {},
   "outputs": [],
   "source": [
    "prefix = './saved_simulations/small-selection_0p2-1000_MultiSim/'"
   ]
  },
  {
   "cell_type": "code",
   "execution_count": 5,
   "metadata": {
    "scrolled": true
   },
   "outputs": [
    {
     "name": "stderr",
     "output_type": "stream",
     "text": [
      "100%|██████████| 1000/1000 [00:06<00:00, 166.18it/s]"
     ]
    },
    {
     "name": "stdout",
     "output_type": "stream",
     "text": [
      "CPU times: user 5.17 s, sys: 627 ms, total: 5.8 s\n",
      "Wall time: 6.03 s\n"
     ]
    },
    {
     "name": "stderr",
     "output_type": "stream",
     "text": [
      "\n"
     ]
    }
   ],
   "source": [
    "%%time\n",
    "pop_data = run_simulations(prefix, 1000, l, q, qfac, alpha, selection=0.2)"
   ]
  }
 ],
 "metadata": {
  "kernelspec": {
   "display_name": "Python 3",
   "language": "python",
   "name": "python3"
  },
  "language_info": {
   "codemirror_mode": {
    "name": "ipython",
    "version": 3
   },
   "file_extension": ".py",
   "mimetype": "text/x-python",
   "name": "python",
   "nbconvert_exporter": "python",
   "pygments_lexer": "ipython3",
   "version": "3.6.2"
  }
 },
 "nbformat": 4,
 "nbformat_minor": 2
}
