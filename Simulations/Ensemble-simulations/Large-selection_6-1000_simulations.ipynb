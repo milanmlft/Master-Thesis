{
 "cells": [
  {
   "cell_type": "markdown",
   "metadata": {},
   "source": [
    "# Simulating multiple large populations"
   ]
  },
  {
   "cell_type": "code",
   "execution_count": 7,
   "metadata": {},
   "outputs": [],
   "source": [
    "import pickle\n",
    "import gzip\n",
    "import numpy as np\n",
    "import pandas as pd\n",
    "\n",
    "from ThesisScripts.MyModel import Population, Clone\n",
    "from ThesisScripts.Analyses import *"
   ]
  },
  {
   "cell_type": "markdown",
   "metadata": {},
   "source": [
    "Previous simulation of selection = 6 was interrupted before completion (**738** populations simulated), therefore the remaining **262 populations** are simulated separately here.\n",
    "\n",
    "The script for `run_simulations()` is adapted so it starts indexing the populations from 738 up to 1000"
   ]
  },
  {
   "cell_type": "code",
   "execution_count": 8,
   "metadata": {},
   "outputs": [],
   "source": [
    "def run_simulations(path_prefix, n, size_lim, mutprob, mutfactor, death_frac, selection):\n",
    "    '''\n",
    "    !!! ADJUSTED VERSION !!!\n",
    "    To be used only in `Large-selection_6-1000_simulations.ipynb`\n",
    "    \n",
    "    Runs multiple Population simulations with the same parameters.\n",
    "\n",
    "    Parameters:\n",
    "    -----------\n",
    "    * path_prefx : prefix of the filepath to target folder to save data\n",
    "    * n : int, number of simulations to run\n",
    "    * size_lim : int, size limit of populations\n",
    "    * mutprob : float, starting mutation rate for populations\n",
    "    * mutfactor : float, factor with which to raise the mutation rate for each subclone\n",
    "    * death_frac : float, death rate for populations\n",
    "    * selection : float, selection factor for populations\n",
    "\n",
    "    Returns:\n",
    "    --------\n",
    "    * data_list : list, contains the final_data dataframe of each simulated population\n",
    "    '''\n",
    "\n",
    "    data_list = []\n",
    "\n",
    "    for i in range(n):\n",
    "        pop = Population(size_lim, mutprob, mutfactor, death_frac, selection)\n",
    "        pop.simulate()\n",
    "        data = final_data(pop)\n",
    "        # pickle data\n",
    "        file_path = path_prefix + 'population_' + str(i+738)  + '.pkl.gz'\n",
    "        data.to_pickle(file_path, compression='gzip')\n",
    "        data_list.append(data)\n",
    "        if len(data_list) % 100 == 0:   # get an update after each 100th population simulated\n",
    "            print(\"Populations simulated:\", len(data_list))\n",
    "\n",
    "    return data_list\n"
   ]
  },
  {
   "cell_type": "markdown",
   "metadata": {},
   "source": [
    "## Simulations (1000 simulations of $10^8$ populations)"
   ]
  },
  {
   "cell_type": "code",
   "execution_count": 9,
   "metadata": {},
   "outputs": [],
   "source": [
    "# parameters for both populations\n",
    "l = 10**8\n",
    "q = 10**(-3)\n",
    "qfac = 1\n",
    "alpha = 0.3"
   ]
  },
  {
   "cell_type": "markdown",
   "metadata": {},
   "source": [
    "### Selective populations (selection = 6)"
   ]
  },
  {
   "cell_type": "code",
   "execution_count": 10,
   "metadata": {},
   "outputs": [
    {
     "name": "stdout",
     "output_type": "stream",
     "text": [
      "\u001b[1m\u001b[34mlarge-neutral-1000_MultiSim\u001b[m\u001b[m/         \u001b[1m\u001b[34mlarge-selection_1p5-1000_MultiSim\u001b[m\u001b[m/\r\n",
      "large-neutral-100_MultiSim.pkl.gz    \u001b[1m\u001b[34mlarge-selection_3-1000_MultiSim\u001b[m\u001b[m/\r\n",
      "large-selection-100_MultiSim.pkl.gz  \u001b[1m\u001b[34mlarge-selection_6-1000_MultiSim\u001b[m\u001b[m/\r\n",
      "\u001b[1m\u001b[34mlarge-selection_0p3-1000_MultiSim\u001b[m\u001b[m/\r\n"
     ]
    }
   ],
   "source": [
    "%ls saved_simulations/"
   ]
  },
  {
   "cell_type": "code",
   "execution_count": 11,
   "metadata": {},
   "outputs": [],
   "source": [
    "prefix2 = './saved_simulations/large-selection_6-1000_MultiSim/'"
   ]
  },
  {
   "cell_type": "markdown",
   "metadata": {},
   "source": [
    "### 262 Simulations (pickling occurs simultaneously during simulation)\n"
   ]
  },
  {
   "cell_type": "code",
   "execution_count": 12,
   "metadata": {
    "scrolled": true
   },
   "outputs": [
    {
     "name": "stdout",
     "output_type": "stream",
     "text": [
      "Populations simulated: 100\n",
      "Populations simulated: 200\n",
      "CPU times: user 42min 36s, sys: 36.7 s, total: 43min 13s\n",
      "Wall time: 43min 15s\n"
     ]
    }
   ],
   "source": [
    "%%time\n",
    "selection = run_simulations(prefix2, 262, l, q, qfac, alpha, selection=6)"
   ]
  }
 ],
 "metadata": {
  "kernelspec": {
   "display_name": "Python 3",
   "language": "python",
   "name": "python3"
  },
  "language_info": {
   "codemirror_mode": {
    "name": "ipython",
    "version": 3
   },
   "file_extension": ".py",
   "mimetype": "text/x-python",
   "name": "python",
   "nbconvert_exporter": "python",
   "pygments_lexer": "ipython3",
   "version": "3.6.2"
  }
 },
 "nbformat": 4,
 "nbformat_minor": 2
}
