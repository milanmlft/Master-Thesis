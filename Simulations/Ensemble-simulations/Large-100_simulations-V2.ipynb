{
 "cells": [
  {
   "cell_type": "markdown",
   "metadata": {},
   "source": [
    "# Simulating multiple large populations"
   ]
  },
  {
   "cell_type": "code",
   "execution_count": 1,
   "metadata": {},
   "outputs": [],
   "source": [
    "import pickle\n",
    "import gzip\n",
    "import numpy as np\n",
    "import pandas as pd\n",
    "\n",
    "from ThesisScripts.MyModel import *\n",
    "from ThesisScripts.Analyses import *"
   ]
  },
  {
   "cell_type": "markdown",
   "metadata": {},
   "source": [
    "## Simulations (start with 100 simulations for each population)"
   ]
  },
  {
   "cell_type": "code",
   "execution_count": 2,
   "metadata": {},
   "outputs": [],
   "source": [
    "# parameters for both populations\n",
    "l = 10**8\n",
    "q = 10**(-3)\n",
    "qfac = 1\n",
    "alpha = 0.3"
   ]
  },
  {
   "cell_type": "markdown",
   "metadata": {},
   "source": [
    "### Neutral populations"
   ]
  },
  {
   "cell_type": "code",
   "execution_count": 3,
   "metadata": {},
   "outputs": [
    {
     "name": "stdout",
     "output_type": "stream",
     "text": [
      "Populations simulated: 100\n",
      "100\n",
      "CPU times: user 13min 38s, sys: 10.6 s, total: 13min 48s\n",
      "Wall time: 13min 55s\n"
     ]
    }
   ],
   "source": [
    "%%time\n",
    "neutral = run_simulations(100, l, q, qfac, alpha, selection=0)\n",
    "print(len(neutral))"
   ]
  },
  {
   "cell_type": "code",
   "execution_count": 7,
   "metadata": {},
   "outputs": [
    {
     "data": {
      "text/html": [
       "<div>\n",
       "<style>\n",
       "    .dataframe thead tr:only-child th {\n",
       "        text-align: right;\n",
       "    }\n",
       "\n",
       "    .dataframe thead th {\n",
       "        text-align: left;\n",
       "    }\n",
       "\n",
       "    .dataframe tbody tr th {\n",
       "        vertical-align: top;\n",
       "    }\n",
       "</style>\n",
       "<table border=\"1\" class=\"dataframe\">\n",
       "  <thead>\n",
       "    <tr style=\"text-align: right;\">\n",
       "      <th></th>\n",
       "      <th>Birthday</th>\n",
       "      <th>q</th>\n",
       "      <th>Final size</th>\n",
       "      <th>Family size</th>\n",
       "      <th>Allele frequency</th>\n",
       "      <th>Mutations</th>\n",
       "      <th>Children</th>\n",
       "      <th>Weight</th>\n",
       "      <th>RGB color</th>\n",
       "    </tr>\n",
       "    <tr>\n",
       "      <th>Clone ID</th>\n",
       "      <th></th>\n",
       "      <th></th>\n",
       "      <th></th>\n",
       "      <th></th>\n",
       "      <th></th>\n",
       "      <th></th>\n",
       "      <th></th>\n",
       "      <th></th>\n",
       "      <th></th>\n",
       "    </tr>\n",
       "  </thead>\n",
       "  <tbody>\n",
       "    <tr>\n",
       "      <th>A</th>\n",
       "      <td>0</td>\n",
       "      <td>0.001</td>\n",
       "      <td>114403244</td>\n",
       "      <td>116402657</td>\n",
       "      <td>1.000000</td>\n",
       "      <td>0</td>\n",
       "      <td>163437</td>\n",
       "      <td>1</td>\n",
       "      <td>(0, 0, 0)</td>\n",
       "    </tr>\n",
       "    <tr>\n",
       "      <th>A.0</th>\n",
       "      <td>10</td>\n",
       "      <td>0.001</td>\n",
       "      <td>332008</td>\n",
       "      <td>337677</td>\n",
       "      <td>0.002901</td>\n",
       "      <td>1</td>\n",
       "      <td>489</td>\n",
       "      <td>1</td>\n",
       "      <td>(125, 57, 45)</td>\n",
       "    </tr>\n",
       "    <tr>\n",
       "      <th>A.1</th>\n",
       "      <td>11</td>\n",
       "      <td>0.001</td>\n",
       "      <td>74871</td>\n",
       "      <td>75930</td>\n",
       "      <td>0.000652</td>\n",
       "      <td>1</td>\n",
       "      <td>120</td>\n",
       "      <td>1</td>\n",
       "      <td>(249, 114, 193)</td>\n",
       "    </tr>\n",
       "    <tr>\n",
       "      <th>A.2</th>\n",
       "      <td>14</td>\n",
       "      <td>0.001</td>\n",
       "      <td>30256</td>\n",
       "      <td>30497</td>\n",
       "      <td>0.000262</td>\n",
       "      <td>1</td>\n",
       "      <td>45</td>\n",
       "      <td>1</td>\n",
       "      <td>(168, 222, 189)</td>\n",
       "    </tr>\n",
       "    <tr>\n",
       "      <th>A.3</th>\n",
       "      <td>15</td>\n",
       "      <td>0.001</td>\n",
       "      <td>63240</td>\n",
       "      <td>64453</td>\n",
       "      <td>0.000554</td>\n",
       "      <td>1</td>\n",
       "      <td>105</td>\n",
       "      <td>1</td>\n",
       "      <td>(146, 230, 124)</td>\n",
       "    </tr>\n",
       "  </tbody>\n",
       "</table>\n",
       "</div>"
      ],
      "text/plain": [
       "          Birthday      q  Final size  Family size  Allele frequency  \\\n",
       "Clone ID                                                               \n",
       "A                0  0.001   114403244    116402657          1.000000   \n",
       "A.0             10  0.001      332008       337677          0.002901   \n",
       "A.1             11  0.001       74871        75930          0.000652   \n",
       "A.2             14  0.001       30256        30497          0.000262   \n",
       "A.3             15  0.001       63240        64453          0.000554   \n",
       "\n",
       "          Mutations  Children  Weight        RGB color  \n",
       "Clone ID                                                \n",
       "A                 0    163437       1        (0, 0, 0)  \n",
       "A.0               1       489       1    (125, 57, 45)  \n",
       "A.1               1       120       1  (249, 114, 193)  \n",
       "A.2               1        45       1  (168, 222, 189)  \n",
       "A.3               1       105       1  (146, 230, 124)  "
      ]
     },
     "execution_count": 7,
     "metadata": {},
     "output_type": "execute_result"
    }
   ],
   "source": [
    "neutral[0].head()"
   ]
  },
  {
   "cell_type": "code",
   "execution_count": 4,
   "metadata": {},
   "outputs": [
    {
     "name": "stdout",
     "output_type": "stream",
     "text": [
      "CPU times: user 3min 58s, sys: 11.8 s, total: 4min 10s\n",
      "Wall time: 4min 14s\n"
     ]
    }
   ],
   "source": [
    "%%time\n",
    "with gzip.open('./saved_simulations/large-neutral-100_MultiSim.pkl.gz', 'wb') as f:\n",
    "    pickle.dump(neutral, f, protocol=pickle.HIGHEST_PROTOCOL)"
   ]
  },
  {
   "cell_type": "markdown",
   "metadata": {},
   "source": [
    "### Selective populations (selection = 0.3)"
   ]
  },
  {
   "cell_type": "code",
   "execution_count": 5,
   "metadata": {},
   "outputs": [
    {
     "name": "stdout",
     "output_type": "stream",
     "text": [
      "Populations simulated: 100\n",
      "100\n",
      "CPU times: user 13min 54s, sys: 10.9 s, total: 14min 5s\n",
      "Wall time: 14min 5s\n"
     ]
    }
   ],
   "source": [
    "%%time\n",
    "selection = run_simulations(100, l, q, qfac, alpha, selection=0.3)\n",
    "print(len(selection))"
   ]
  },
  {
   "cell_type": "code",
   "execution_count": 6,
   "metadata": {},
   "outputs": [
    {
     "name": "stdout",
     "output_type": "stream",
     "text": [
      "CPU times: user 3min 1s, sys: 18.1 s, total: 3min 19s\n",
      "Wall time: 3min 21s\n"
     ]
    }
   ],
   "source": [
    "%%time\n",
    "with gzip.open('./saved_simulations/large-selection-100_MultiSim.pkl.gz', 'wb') as f:\n",
    "    pickle.dump(selection, f, protocol=pickle.HIGHEST_PROTOCOL)"
   ]
  }
 ],
 "metadata": {
  "kernelspec": {
   "display_name": "Python 3",
   "language": "python",
   "name": "python3"
  },
  "language_info": {
   "codemirror_mode": {
    "name": "ipython",
    "version": 3
   },
   "file_extension": ".py",
   "mimetype": "text/x-python",
   "name": "python",
   "nbconvert_exporter": "python",
   "pygments_lexer": "ipython3",
   "version": "3.6.2"
  }
 },
 "nbformat": 4,
 "nbformat_minor": 2
}
