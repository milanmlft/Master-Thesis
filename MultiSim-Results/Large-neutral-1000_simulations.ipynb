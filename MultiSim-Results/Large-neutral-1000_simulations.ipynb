{
 "cells": [
  {
   "cell_type": "markdown",
   "metadata": {},
   "source": [
    "# Simulating multiple large populations"
   ]
  },
  {
   "cell_type": "code",
   "execution_count": 1,
   "metadata": {},
   "outputs": [],
   "source": [
    "import pickle\n",
    "import gzip\n",
    "import numpy as np\n",
    "import pandas as pd\n",
    "\n",
    "from ThesisScripts.MyModel import *\n",
    "from ThesisScripts.Analyses import *"
   ]
  },
  {
   "cell_type": "markdown",
   "metadata": {},
   "source": [
    "## Simulations (1000 simulations of $10^8$ populations)"
   ]
  },
  {
   "cell_type": "code",
   "execution_count": 2,
   "metadata": {},
   "outputs": [],
   "source": [
    "# parameters for populations\n",
    "l = 10**8\n",
    "q = 10**(-3)\n",
    "qfac = 1\n",
    "alpha = 0.3"
   ]
  },
  {
   "cell_type": "markdown",
   "metadata": {},
   "source": [
    "### Neutral populations"
   ]
  },
  {
   "cell_type": "code",
   "execution_count": null,
   "metadata": {
    "scrolled": true
   },
   "outputs": [
    {
     "name": "stdout",
     "output_type": "stream",
     "text": [
      "Populations simulated: 100\n",
      "Populations simulated: 200\n",
      "Populations simulated: 300\n",
      "Populations simulated: 400\n",
      "Populations simulated: 500\n",
      "Populations simulated: 600\n",
      "Populations simulated: 700\n",
      "Populations simulated: 800\n",
      "Populations simulated: 900\n",
      "Populations simulated: 1000\n",
      "1000\n",
      "CPU times: user 2h 16min 20s, sys: 1min 42s, total: 2h 18min 2s\n",
      "Wall time: 2h 18min 14s\n"
     ]
    }
   ],
   "source": [
    "%%time\n",
    "neutral = run_simulations(1000, l, q, qfac, alpha, selection=0)"
   ]
  },
  {
   "cell_type": "code",
   "execution_count": null,
   "metadata": {},
   "outputs": [],
   "source": [
    "%%time\n",
    "prefix = './saved_simulations/large-neutral-1000_MultiSim/\n",
    "for i in range(len(neutral)):\n",
    "    file_path = prefix + 'population_' + str(i)  + '.pkl.gz'\n",
    "    neutral[i].to_pickle(file_path, compression='gzip')"
   ]
  }
 ],
 "metadata": {
  "kernelspec": {
   "display_name": "Python 3",
   "language": "python",
   "name": "python3"
  },
  "language_info": {
   "codemirror_mode": {
    "name": "ipython",
    "version": 3
   },
   "file_extension": ".py",
   "mimetype": "text/x-python",
   "name": "python",
   "nbconvert_exporter": "python",
   "pygments_lexer": "ipython3",
   "version": "3.6.2"
  }
 },
 "nbformat": 4,
 "nbformat_minor": 2
}
