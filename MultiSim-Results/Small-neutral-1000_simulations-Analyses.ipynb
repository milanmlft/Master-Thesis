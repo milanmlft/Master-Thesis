{
 "cells": [
  {
   "cell_type": "markdown",
   "metadata": {},
   "source": [
    "# Analyses of multiple small populations"
   ]
  },
  {
   "cell_type": "code",
   "execution_count": null,
   "metadata": {},
   "outputs": [],
   "source": [
    "import pickle\n",
    "import gzip\n",
    "from tqdm import tqdm\n",
    "import numpy as np\n",
    "import pandas as pd\n",
    "from scipy import stats\n",
    "\n",
    "import os\n",
    "import sys\n",
    "module_path = os.path.abspath(os.path.join('..'))\n",
    "if module_path not in sys.path:\n",
    "    sys.path.append(module_path)\n",
    "from ThesisScripts.MyModel import *\n",
    "from ThesisScripts.Analyses import *\n",
    "\n",
    "import matplotlib.pyplot as plt\n",
    "%matplotlib inline\n",
    "import seaborn as sns\n",
    "sns.set_style(\"whitegrid\")\n",
    "\n",
    "#matplotlib preamble, taken from http://blog.juliusschulz.de/blog/ultimate-ipython-notebook\n",
    "from IPython.display import set_matplotlib_formats\n",
    "set_matplotlib_formats('pdf', 'png')\n",
    "plt.rcParams['savefig.dpi'] = 75\n",
    "\n",
    "plt.rcParams['figure.autolayout'] = False\n",
    "plt.rcParams['figure.figsize'] = 14, 7\n",
    "plt.rcParams['axes.labelsize'] = 18\n",
    "plt.rcParams['axes.titlesize'] = 20\n",
    "plt.rcParams['font.size'] = 16\n",
    "plt.rcParams['lines.linewidth'] = 2.0\n",
    "plt.rcParams['lines.markersize'] = 8\n",
    "plt.rcParams['legend.fontsize'] = 14"
   ]
  },
  {
   "cell_type": "markdown",
   "metadata": {},
   "source": [
    "## Load data"
   ]
  },
  {
   "cell_type": "code",
   "execution_count": null,
   "metadata": {
    "scrolled": false
   },
   "outputs": [],
   "source": [
    "%ls ../saved_simulations/"
   ]
  },
  {
   "cell_type": "code",
   "execution_count": null,
   "metadata": {},
   "outputs": [],
   "source": [
    "%%time\n",
    "\n",
    "prefix = '../saved_simulations/small-neutral-1000_MultiSim/'\n",
    "pop_data = []\n",
    "\n",
    "for i in tqdm(range(1000)):\n",
    "    file_path = prefix + 'population_' + '%s' %(i) + '.pkl.gz'\n",
    "    data = pd.read_pickle(file_path, compression='gzip')\n",
    "    pop_data.append(data)\n",
    "print(len(pop_data))\n",
    "print(type(pop_data[0]))"
   ]
  },
  {
   "cell_type": "markdown",
   "metadata": {},
   "source": [
    "## Maximum allele frequencies"
   ]
  },
  {
   "cell_type": "code",
   "execution_count": null,
   "metadata": {},
   "outputs": [],
   "source": [
    "%%time\n",
    "pop_data_MaxAFs = get_max_AFs(pop_data, det_lim=1)"
   ]
  },
  {
   "cell_type": "code",
   "execution_count": null,
   "metadata": {},
   "outputs": [],
   "source": [
    "sns.distplot(pop_data_MaxAFs, bins=100, norm_hist=True, kde=False);\n",
    "plt.title('Distribution of max allele frequencies');\n",
    "plt.xlabel('Max Allele Fraction');\n",
    "plt.ylabel('Density');\n",
    "#plt.ylim(0, 5);\n",
    "plt.show()"
   ]
  },
  {
   "cell_type": "markdown",
   "metadata": {},
   "source": [
    "## Heterogeneity"
   ]
  },
  {
   "cell_type": "code",
   "execution_count": null,
   "metadata": {},
   "outputs": [],
   "source": [
    "%%time\n",
    "pop_data_H = get_heterogeneity(pop_data, det_lim=1)"
   ]
  },
  {
   "cell_type": "code",
   "execution_count": null,
   "metadata": {},
   "outputs": [],
   "source": [
    "sns.distplot(pop_data_H, bins=100, norm_hist=True, kde=False);\n",
    "plt.title('Distribution population heterogeneity');\n",
    "plt.xlabel('Heterogeneity');\n",
    "plt.ylabel('Density');\n",
    "plt.show()"
   ]
  },
  {
   "cell_type": "markdown",
   "metadata": {},
   "source": [
    "## Mutational burden (number of mutations distrbution)"
   ]
  },
  {
   "cell_type": "code",
   "execution_count": null,
   "metadata": {},
   "outputs": [],
   "source": [
    "%%time\n",
    "pop_data_mut_distr = get_mutation_distributions(pop_data, det_lim=1)"
   ]
  },
  {
   "cell_type": "code",
   "execution_count": null,
   "metadata": {},
   "outputs": [],
   "source": [
    "pop_data_mut_distr.to_csv('../simulation_data/Small-1000_sim-neutral_mut_distr.csv')"
   ]
  },
  {
   "cell_type": "code",
   "execution_count": null,
   "metadata": {},
   "outputs": [],
   "source": [
    "pop_data_avg_nmd = pop_data_mut_distr.mean()\n",
    "pop_data_std_nmd = pop_data_mut_distr.std()"
   ]
  },
  {
   "cell_type": "code",
   "execution_count": null,
   "metadata": {},
   "outputs": [],
   "source": [
    "%%time\n",
    "pop_data_avg_num_mut = avg_num_mutations(pop_data_avg_nmd)"
   ]
  },
  {
   "cell_type": "code",
   "execution_count": null,
   "metadata": {
    "scrolled": false
   },
   "outputs": [],
   "source": [
    "pop_data_errors = pop_data_std_nmd.values\n",
    "\n",
    "plt.bar(left=pop_data_avg_nmd.index+0.15, height=pop_data_avg_nmd.values, width=0.3, alpha=0.6, \n",
    "        align='center', yerr=pop_data_errors, capsize=10, \n",
    "        label=\"mean = %s\" %(round(pop_data_avg_num_mut, 3)));\n",
    "\n",
    "plt.title(\"Number of mutations per clone\");\n",
    "plt.xlabel('Number of mutations');\n",
    "plt.ylabel('Cell count');\n",
    "plt.yscale('log');\n",
    "plt.xticks(list(pop_data_avg_nmd.index));\n",
    "plt.margins(0.02);\n",
    "plt.show()"
   ]
  },
  {
   "cell_type": "markdown",
   "metadata": {},
   "source": [
    "## Total number of mutations"
   ]
  },
  {
   "cell_type": "code",
   "execution_count": null,
   "metadata": {},
   "outputs": [],
   "source": [
    "%%time\n",
    "pop_data_total_m = get_total_mutations(pop_data, det_lim=1)"
   ]
  },
  {
   "cell_type": "code",
   "execution_count": null,
   "metadata": {},
   "outputs": [],
   "source": [
    "sns.violinplot(data=[pop_data_total_m]);\n",
    "plt.title(\"Total number of mutations\");\n",
    "plt.ylabel(\"M\");\n",
    "plt.show()"
   ]
  },
  {
   "cell_type": "markdown",
   "metadata": {},
   "source": [
    "## Errors in reconstruction of mutational timeline"
   ]
  },
  {
   "cell_type": "markdown",
   "metadata": {},
   "source": [
    "Make sure that the vaue for **alpha** is correct!"
   ]
  },
  {
   "cell_type": "code",
   "execution_count": null,
   "metadata": {},
   "outputs": [],
   "source": [
    "alpha = 0.3"
   ]
  },
  {
   "cell_type": "code",
   "execution_count": null,
   "metadata": {},
   "outputs": [],
   "source": [
    "%%time\n",
    "pop_data_rec_errors = get_reconstruction_errors(pop_data, alpha, det_lim=1)"
   ]
  },
  {
   "cell_type": "code",
   "execution_count": null,
   "metadata": {},
   "outputs": [],
   "source": [
    "sns.violinplot(data=[pop_data_rec_errors]);\n",
    "plt.ylabel(\"Median reconstruction errors\");\n",
    "plt.show()"
   ]
  },
  {
   "cell_type": "markdown",
   "metadata": {},
   "source": [
    "## Export data"
   ]
  },
  {
   "cell_type": "code",
   "execution_count": null,
   "metadata": {},
   "outputs": [],
   "source": [
    "d = pd.DataFrame()\n",
    "d[\"MaxAFs\"] = pop_data_MaxAFs\n",
    "d[\"H\"] = pop_data_H\n",
    "d[\"total_m\"] = pop_data_total_m\n",
    "d[\"rec_errors\"] = pop_data_rec_errors\n",
    "\n",
    "d.to_csv('../simulation_data/Small-neutral-1000_sim-Analyzed_data.csv')"
   ]
  }
 ],
 "metadata": {
  "kernelspec": {
   "display_name": "Python 3",
   "language": "python",
   "name": "python3"
  },
  "language_info": {
   "codemirror_mode": {
    "name": "ipython",
    "version": 3
   },
   "file_extension": ".py",
   "mimetype": "text/x-python",
   "name": "python",
   "nbconvert_exporter": "python",
   "pygments_lexer": "ipython3",
   "version": "3.6.2"
  }
 },
 "nbformat": 4,
 "nbformat_minor": 2
}
