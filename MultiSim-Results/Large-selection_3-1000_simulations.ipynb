{
 "cells": [
  {
   "cell_type": "markdown",
   "metadata": {},
   "source": [
    "# Simulating multiple large populations"
   ]
  },
  {
   "cell_type": "code",
   "execution_count": 1,
   "metadata": {},
   "outputs": [],
   "source": [
    "import pickle\n",
    "import gzip\n",
    "import numpy as np\n",
    "import pandas as pd\n",
    "\n",
    "from ThesisScripts.MyModel import *\n",
    "from ThesisScripts.Analyses import *"
   ]
  },
  {
   "cell_type": "markdown",
   "metadata": {},
   "source": [
    "## Simulations (1000 simulations of $10^8$ populations)"
   ]
  },
  {
   "cell_type": "code",
   "execution_count": 2,
   "metadata": {},
   "outputs": [],
   "source": [
    "# parameters for both populations\n",
    "l = 10**8\n",
    "q = 10**(-3)\n",
    "qfac = 1\n",
    "alpha = 0.3"
   ]
  },
  {
   "cell_type": "markdown",
   "metadata": {},
   "source": [
    "### Selective populations (selection = 3)"
   ]
  },
  {
   "cell_type": "code",
   "execution_count": 3,
   "metadata": {},
   "outputs": [
    {
     "name": "stdout",
     "output_type": "stream",
     "text": [
      "\u001b[1m\u001b[34mlarge-neutral-1000_MultiSim\u001b[m\u001b[m/         \u001b[1m\u001b[34mlarge-selection_0p3-1000_MultiSim\u001b[m\u001b[m/\r\n",
      "large-neutral-100_MultiSim.pkl.gz    \u001b[1m\u001b[34mlarge-selection_1p5-1000_MultiSim\u001b[m\u001b[m/\r\n",
      "large-selection-100_MultiSim.pkl.gz  \u001b[1m\u001b[34mlarge-selection_3-1000_MultiSim\u001b[m\u001b[m/\r\n",
      "\u001b[1m\u001b[34mlarge-selection_0p004-1000_MultiSim\u001b[m\u001b[m/ \u001b[1m\u001b[34mlarge-selection_6-1000_MultiSim\u001b[m\u001b[m/\r\n"
     ]
    }
   ],
   "source": [
    "%ls saved_simulations/"
   ]
  },
  {
   "cell_type": "code",
   "execution_count": 4,
   "metadata": {},
   "outputs": [],
   "source": [
    "prefix = './saved_simulations/large-selection_3-1000_MultiSim/'"
   ]
  },
  {
   "cell_type": "markdown",
   "metadata": {},
   "source": [
    "### Simulations (pickling occurs simultaneously during simulation)"
   ]
  },
  {
   "cell_type": "code",
   "execution_count": null,
   "metadata": {
    "scrolled": true
   },
   "outputs": [],
   "source": [
    "%%time\n",
    "selection = run_simulations(prefix, 1000, l, q, qfac, alpha, selection=3)"
   ]
  }
 ],
 "metadata": {
  "kernelspec": {
   "display_name": "Python 3",
   "language": "python",
   "name": "python3"
  },
  "language_info": {
   "codemirror_mode": {
    "name": "ipython",
    "version": 3
   },
   "file_extension": ".py",
   "mimetype": "text/x-python",
   "name": "python",
   "nbconvert_exporter": "python",
   "pygments_lexer": "ipython3",
   "version": "3.6.2"
  }
 },
 "nbformat": 4,
 "nbformat_minor": 2
}
