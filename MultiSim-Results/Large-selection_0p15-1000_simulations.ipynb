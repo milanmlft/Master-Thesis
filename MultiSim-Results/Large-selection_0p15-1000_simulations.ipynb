{
 "cells": [
  {
   "cell_type": "markdown",
   "metadata": {},
   "source": [
    "# Simulating multiple large populations"
   ]
  },
  {
   "cell_type": "code",
   "execution_count": 1,
   "metadata": {},
   "outputs": [],
   "source": [
    "import os\n",
    "import sys\n",
    "module_path = os.path.abspath(os.path.join('..'))\n",
    "if module_path not in sys.path:\n",
    "    sys.path.append(module_path)\n",
    "\n",
    "from tqdm import tqdm\n",
    "import pickle\n",
    "import gzip\n",
    "import numpy as np\n",
    "import pandas as pd\n",
    "\n",
    "from ThesisScripts.MyModel import Population, Clone\n",
    "from ThesisScripts.Analyses import *"
   ]
  },
  {
   "cell_type": "markdown",
   "metadata": {},
   "source": [
    "## Simulations (1000 simulations of $10^8$ populations)"
   ]
  },
  {
   "cell_type": "code",
   "execution_count": 2,
   "metadata": {},
   "outputs": [],
   "source": [
    "# parameters for both populations\n",
    "l = 10**8\n",
    "q = 10**(-3)\n",
    "qfac = 1\n",
    "alpha = 0.3"
   ]
  },
  {
   "cell_type": "markdown",
   "metadata": {},
   "source": [
    "### Selective populations (selection = 0.15)"
   ]
  },
  {
   "cell_type": "code",
   "execution_count": 3,
   "metadata": {},
   "outputs": [
    {
     "name": "stdout",
     "output_type": "stream",
     "text": [
      "\u001b[1m\u001b[34mSAMPLED-Results-Large-Neutral_vs_Selection-HIGH_MUTRATE\u001b[m\u001b[m/\r\n",
      "\u001b[1m\u001b[34mlarge-selection_0p1-1000_MultiSim\u001b[m\u001b[m/\r\n",
      "\u001b[1m\u001b[34mlarge-selection_0p15-1000_MultiSim\u001b[m\u001b[m/\r\n"
     ]
    }
   ],
   "source": [
    "%ls ../saved_simulations/"
   ]
  },
  {
   "cell_type": "code",
   "execution_count": 4,
   "metadata": {},
   "outputs": [],
   "source": [
    "prefix = '../saved_simulations/large-selection_0p15-1000_MultiSim/'"
   ]
  },
  {
   "cell_type": "markdown",
   "metadata": {},
   "source": [
    "### Simulations (pickling occurs simultaneously during simulation)"
   ]
  },
  {
   "cell_type": "raw",
   "metadata": {
    "scrolled": true
   },
   "source": [
    "%%time\n",
    "from ThesisScripts.MyModel import run_simulations\n",
    "selection = run_simulations(prefix, 1000, l, q, qfac, alpha, selection=0.15)"
   ]
  },
  {
   "cell_type": "markdown",
   "metadata": {},
   "source": [
    "Only **932** populations simulated (due to full diskspace).\n",
    "\n",
    "Remaining **68** populations simulated below."
   ]
  },
  {
   "cell_type": "code",
   "execution_count": 5,
   "metadata": {},
   "outputs": [],
   "source": [
    "def run_simulations(path_prefix, n, size_lim, mutprob, mutfactor, death_frac, selection):\n",
    "    '''\n",
    "    !!! ADJUSTED VERSION !!!\n",
    "    To be used only in `Large-selection_0p15-1000_simulations.ipynb`\n",
    "    \n",
    "    Runs multiple Population simulations with the same parameters.\n",
    "\n",
    "    Parameters:\n",
    "    -----------\n",
    "    * path_prefx : prefix of the filepath to target folder to save data\n",
    "    * n : int, number of simulations to run\n",
    "    * size_lim : int, size limit of populations\n",
    "    * mutprob : float, starting mutation rate for populations\n",
    "    * mutfactor : float, factor with which to raise the mutation rate for each subclone\n",
    "    * death_frac : float, death rate for populations\n",
    "    * selection : float, selection factor for populations\n",
    "\n",
    "    Returns:\n",
    "    --------\n",
    "    * data_list : list, contains the final_data dataframe of each simulated population\n",
    "    '''\n",
    "\n",
    "    data_list = []\n",
    "\n",
    "    for i in tqdm(range(n)):\n",
    "        pop = Population(size_lim, mutprob, mutfactor, death_frac, selection)\n",
    "        pop.simulate()\n",
    "        data = final_data(pop)\n",
    "        # pickle data\n",
    "        file_path = path_prefix + 'population_' + str(i+932)  + '.pkl.gz'\n",
    "        data.to_pickle(file_path, compression='gzip')\n",
    "        data_list.append(data)\n",
    "        if len(data_list) % 100 == 0:   # get an update after each 100th population simulated\n",
    "            print(\"Populations simulated:\", len(data_list))\n",
    "\n",
    "    return data_list\n"
   ]
  },
  {
   "cell_type": "markdown",
   "metadata": {},
   "source": [
    "### Remaining 68 populations"
   ]
  },
  {
   "cell_type": "code",
   "execution_count": 6,
   "metadata": {},
   "outputs": [
    {
     "name": "stderr",
     "output_type": "stream",
     "text": [
      "100%|██████████| 68/68 [12:32<00:00, 11.07s/it]"
     ]
    },
    {
     "name": "stdout",
     "output_type": "stream",
     "text": [
      "CPU times: user 12min 18s, sys: 11.1 s, total: 12min 29s\n",
      "Wall time: 12min 32s\n"
     ]
    },
    {
     "name": "stderr",
     "output_type": "stream",
     "text": [
      "\n"
     ]
    }
   ],
   "source": [
    "%%time\n",
    "selection = run_simulations(prefix, 68, l, q, qfac, alpha, selection=0.15)"
   ]
  }
 ],
 "metadata": {
  "kernelspec": {
   "display_name": "Python 3",
   "language": "python",
   "name": "python3"
  },
  "language_info": {
   "codemirror_mode": {
    "name": "ipython",
    "version": 3
   },
   "file_extension": ".py",
   "mimetype": "text/x-python",
   "name": "python",
   "nbconvert_exporter": "python",
   "pygments_lexer": "ipython3",
   "version": "3.6.2"
  },
  "notify_time": "5"
 },
 "nbformat": 4,
 "nbformat_minor": 2
}
